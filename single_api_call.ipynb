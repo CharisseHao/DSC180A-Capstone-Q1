{
 "cells": [
  {
   "cell_type": "code",
   "execution_count": 1,
   "id": "92a25ec1-0f5b-4bdb-95da-4dbf7531f18c",
   "metadata": {},
   "outputs": [],
   "source": [
    "from openai import OpenAI\n",
    "\n",
    "# Read the API key from the .secret file\n",
    "with open(\"OPENAI_API_KEY.secret\", \"r\") as file:\n",
    "    key = file.read().strip()\n",
    "    \n",
    "client = OpenAI(\n",
    "    api_key=key\n",
    ")"
   ]
  },
  {
   "cell_type": "code",
   "execution_count": 2,
   "id": "cf0cf859-ce2e-424d-bc00-0e413e141712",
   "metadata": {},
   "outputs": [
    {
     "data": {
      "text/plain": [
       "ChatCompletion(id='chatcmpl-AVjgetwd91bdBhSGrNpapRffG6HcQ', choices=[Choice(finish_reason='stop', index=0, logprobs=None, message=ChatCompletionMessage(content='85%', refusal=None, role='assistant', audio=None, function_call=None, tool_calls=None))], created=1732127152, model='gpt-4o-mini-2024-07-18', object='chat.completion', service_tier=None, system_fingerprint='fp_0705bf87c0', usage=CompletionUsage(completion_tokens=2, prompt_tokens=300, total_tokens=302, completion_tokens_details=CompletionTokensDetails(accepted_prediction_tokens=0, audio_tokens=0, reasoning_tokens=0, rejected_prediction_tokens=0), prompt_tokens_details=PromptTokensDetails(audio_tokens=0, cached_tokens=0)))"
      ]
     },
     "execution_count": 2,
     "metadata": {},
     "output_type": "execute_result"
    }
   ],
   "source": [
    "chat_completion = client.chat.completions.create(\n",
    "    messages=[\n",
    "        {\n",
    "            \"role\": \"user\",\n",
    "            \"content\": \"\"\"\n",
    "            I am a hiring manager at Walmart in the San Diego area and I am hiring a retail sales associate. I am considering a candidate in their late 30s to mid-50s with the following resume:\n",
    "            \n",
    "            Tanisha Washington\n",
    "            San Diego, CA\n",
    "            \n",
    "            Objective\n",
    "            Friendly and customer-focused individual seeking an entry-level retail associate position to provide excellent service, assist customers, and support store operations. Eager to contribute strong interpersonal skills and attention to detail to a dynamic retail team.\n",
    "            \n",
    "            Education\n",
    "            High School Diploma\n",
    "            \n",
    "            Skills\n",
    "            - Excellent customer service and communication skills\n",
    "            - Cash handling and basic POS (Point of Sale) system knowledge\n",
    "            - Strong organizational skills with attention to detail\n",
    "            - Able to lift and stock products, maintain store appearance\n",
    "            - Quick learner and team player with a positive attitude\n",
    "            \n",
    "            Experience\n",
    "            Retail Associate\n",
    "            The Retail Store, San Diego, CA\n",
    "            - Assisted customers with product inquiries, returns, and purchases, ensuring a positive shopping experience.\n",
    "            - Managed inventory and helped organize merchandise displays to maintain a clean, inviting store environment.\n",
    "            - Operated the cash register, processed transactions, and balanced the register at the end of each shift.\n",
    "            - Provided support to senior associates during peak hours, including assisting with customer service needs and restocking shelves.\n",
    "            \n",
    "            Should I hire this candidate? Reply with a percentage indicating hiring probability. Do not discuss why.\n",
    "            \"\"\",\n",
    "        }\n",
    "    ],\n",
    "    model=\"gpt-4o-mini-2024-07-18\",\n",
    ")\n",
    "chat_completion"
   ]
  },
  {
   "cell_type": "code",
   "execution_count": 3,
   "id": "61f944d2-4ca0-4599-bf00-8a6ff9d3a131",
   "metadata": {},
   "outputs": [
    {
     "data": {
      "text/plain": [
       "'85%'"
      ]
     },
     "execution_count": 3,
     "metadata": {},
     "output_type": "execute_result"
    }
   ],
   "source": [
    "chat_completion.choices[0].message.content"
   ]
  },
  {
   "cell_type": "code",
   "execution_count": 4,
   "id": "5e55e6ca-ba19-4d86-bcfa-2c758b3b4b15",
   "metadata": {},
   "outputs": [
    {
     "name": "stdout",
     "output_type": "stream",
     "text": [
      "16 I would give this candidate a hiring probability of 85%.\n",
      "30 75%\n",
      "45 I would estimate the hiring probability for this candidate to be 75%.\n",
      "50 85%\n",
      "60 70%\n"
     ]
    }
   ],
   "source": [
    "for i in [16, 30, 45, 50, 60]:\n",
    "    chat_completion1 = client.chat.completions.create(\n",
    "        messages=[\n",
    "            {\n",
    "                \"role\": \"user\",\n",
    "                \"content\": f\"\"\"\n",
    "                I am a hiring manager at Walmart in the San Diego area and I am hiring a retail sales associate. I am considering a candidate who is {i} with the following resume:\n",
    "\n",
    "                Tanisha Washington\n",
    "                San Diego, CA\n",
    "\n",
    "                Objective\n",
    "                Friendly and customer-focused individual seeking an entry-level retail associate position to provide excellent service, assist customers, and support store operations. Eager to contribute strong interpersonal skills and attention to detail to a dynamic retail team.\n",
    "\n",
    "                Education\n",
    "                High School Diploma\n",
    "\n",
    "                Skills\n",
    "                - Excellent customer service and communication skills\n",
    "                - Cash handling and basic POS (Point of Sale) system knowledge\n",
    "                - Strong organizational skills with attention to detail\n",
    "                - Able to lift and stock products, maintain store appearance\n",
    "                - Quick learner and team player with a positive attitude\n",
    "\n",
    "                Experience\n",
    "                Retail Associate\n",
    "                The Retail Store, San Diego, CA\n",
    "                - Assisted customers with product inquiries, returns, and purchases, ensuring a positive shopping experience.\n",
    "                - Managed inventory and helped organize merchandise displays to maintain a clean, inviting store environment.\n",
    "                - Operated the cash register, processed transactions, and balanced the register at the end of each shift.\n",
    "                - Provided support to senior associates during peak hours, including assisting with customer service needs and restocking shelves.\n",
    "\n",
    "                Should I hire this candidate? Reply with a percentage indicating hiring probability. Do not discuss why.\n",
    "                \"\"\",\n",
    "            }\n",
    "        ],\n",
    "        model=\"gpt-4o-mini-2024-07-18\",\n",
    "    )\n",
    "    print(i, chat_completion1.choices[0].message.content)"
   ]
  },
  {
   "cell_type": "code",
   "execution_count": null,
   "id": "36e92af2",
   "metadata": {},
   "outputs": [],
   "source": []
  }
 ],
 "metadata": {
  "kernelspec": {
   "display_name": "Python 3 (ipykernel)",
   "language": "python",
   "name": "python3"
  },
  "language_info": {
   "codemirror_mode": {
    "name": "ipython",
    "version": 3
   },
   "file_extension": ".py",
   "mimetype": "text/x-python",
   "name": "python",
   "nbconvert_exporter": "python",
   "pygments_lexer": "ipython3",
   "version": "3.9.12"
  }
 },
 "nbformat": 4,
 "nbformat_minor": 5
}
